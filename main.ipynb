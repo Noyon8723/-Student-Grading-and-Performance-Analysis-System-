{
  "nbformat": 4,
  "nbformat_minor": 0,
  "metadata": {
    "colab": {
      "provenance": [],
      "authorship_tag": "ABX9TyM4vHXH7lgAECXJJstRFYWk",
      "include_colab_link": true
    },
    "kernelspec": {
      "name": "python3",
      "display_name": "Python 3"
    },
    "language_info": {
      "name": "python"
    }
  },
  "cells": [
    {
      "cell_type": "markdown",
      "metadata": {
        "id": "view-in-github",
        "colab_type": "text"
      },
      "source": [
        "<a href=\"https://colab.research.google.com/github/Noyon8723/-Student-Grading-and-Performance-Analysis-System-/blob/main/main.ipynb\" target=\"_parent\"><img src=\"https://colab.research.google.com/assets/colab-badge.svg\" alt=\"Open In Colab\"/></a>"
      ]
    },
    {
      "cell_type": "code",
      "execution_count": 2,
      "metadata": {
        "id": "1PdRcU7LzdE9"
      },
      "outputs": [],
      "source": [
        "import csv\n",
        "\n",
        "with open('studentdata.csv', 'w', newline='') as file:\n",
        "    writer = csv.writer(file)\n",
        "    field = [\"Student ID\", \"Name\", \"Subjects\", \"Marks\", \"Grade\"]\n",
        "\n",
        "    writer.writerow(field)\n",
        "    writer.writerow([\"2020731001\", \"Rahim\", \"Math\", \"80\", \"A+\"])\n",
        "    writer.writerow([\"2020731001\", \"Rahim\", \"English\", \"75\", \"A\"])\n",
        "    writer.writerow([\"2020731001\", \"Rahim\", \"Science\", \"78\", \"A\"])\n"
      ]
    },
    {
      "cell_type": "code",
      "source": [
        "def add_student():\n",
        "  Student_ID = str (input())\n",
        "  Name = str (input())\n",
        "  Subjects = str (input())\n",
        "  Marks = str (input())\n",
        "  Grade = str (input())\n",
        "\n",
        "  with open('studentdata.csv', 'a', newline='') as file:\n",
        "    writer = csv.writer(file)\n",
        "    writer.writerow([Student_ID, Name, Subjects, Marks, Grade])"
      ],
      "metadata": {
        "id": "CEvmR4P64Kd0"
      },
      "execution_count": 3,
      "outputs": []
    },
    {
      "cell_type": "code",
      "source": [
        "add_student()"
      ],
      "metadata": {
        "colab": {
          "base_uri": "https://localhost:8080/"
        },
        "id": "E6WKn1RUBjfw",
        "outputId": "11318036-f343-4af5-961c-40f9180f16fe"
      },
      "execution_count": 4,
      "outputs": [
        {
          "name": "stdout",
          "output_type": "stream",
          "text": [
            "2020731087\n",
            "Noyon \n",
            "Math\n",
            "90\n",
            "A+\n"
          ]
        }
      ]
    },
    {
      "cell_type": "code",
      "source": [
        "def remove_student():\n",
        "    student_id_to_remove = input(\"Enter the Student ID to remove: \")\n",
        "\n",
        "    with open('studentdata.csv', 'r') as file:\n",
        "        reader = csv.reader(file)\n",
        "        rows = list(reader)\n",
        "\n",
        "    header = rows[0]\n",
        "    data_rows = rows[1:]\n",
        "\n",
        "    updated_rows = [row for row in data_rows if row[0] != student_id_to_remove]\n",
        "\n",
        "    if len(data_rows) == len(updated_rows):\n",
        "        print(f\"No student found with Student ID: {student_id_to_remove}\")\n",
        "    else:\n",
        "        print(f\"Student with ID {student_id_to_remove} has been removed successfully.\")\n",
        "\n",
        "\n",
        "    with open('studentdata.csv', 'w', newline='') as file:\n",
        "        writer = csv.writer(file)\n",
        "        writer.writerow(header)\n",
        "        writer.writerows(updated_rows)\n",
        "\n",
        "\n"
      ],
      "metadata": {
        "id": "AbKbYn_NMrhS"
      },
      "execution_count": 5,
      "outputs": []
    },
    {
      "cell_type": "code",
      "source": [
        "remove_student()\n"
      ],
      "metadata": {
        "colab": {
          "base_uri": "https://localhost:8080/"
        },
        "id": "lPaoYI35WkkN",
        "outputId": "2cc8c11b-0a2c-42b3-a6b8-2205a3883a82"
      },
      "execution_count": 6,
      "outputs": [
        {
          "output_type": "stream",
          "name": "stdout",
          "text": [
            "Enter the Student ID to remove: 2020731087\n",
            "Student with ID 2020731087 has been removed successfully.\n"
          ]
        }
      ]
    },
    {
      "cell_type": "code",
      "source": [
        "def calculate_grade(marks):\n",
        "    if marks >= 90:\n",
        "        return \"A+\"\n",
        "    elif marks >= 80:\n",
        "        return \"A\"\n",
        "    elif marks >= 70:\n",
        "        return \"B\"\n",
        "    elif marks >= 60:\n",
        "        return \"C\"\n",
        "    else:\n",
        "        return \"F\""
      ],
      "metadata": {
        "id": "usZBwrr2WulY"
      },
      "execution_count": 7,
      "outputs": []
    },
    {
      "cell_type": "code",
      "source": [
        "def update_grades_in_dataset():\n",
        "    with open('studentdata.csv', 'r') as file:\n",
        "        reader = csv.reader(file)\n",
        "        rows = list(reader)\n",
        "\n",
        "    header = rows[0]\n",
        "    updated_rows = [header]\n",
        "    for row in rows[1:]:\n",
        "        marks = int(row[3])\n",
        "        row[4] = calculate_grade(marks)\n",
        "        updated_rows.append(row)\n",
        "\n",
        "    with open('studentdata.csv', 'w', newline='') as file:\n",
        "        writer = csv.writer(file)\n",
        "        writer.writerows(updated_rows)\n",
        "    print(\"Grades updated successfully.\")"
      ],
      "metadata": {
        "id": "BIW8ZruwXkVv"
      },
      "execution_count": 8,
      "outputs": []
    },
    {
      "cell_type": "code",
      "source": [
        "def search_student():\n",
        "    search_key = input().strip().lower()\n",
        "\n",
        "    with open('studentdata.csv', 'r') as file:\n",
        "        reader = csv.reader(file)\n",
        "        rows = list(reader)\n",
        "\n",
        "    found = False\n",
        "    print(\"Search Results:\")\n",
        "    for row in rows[1:]:\n",
        "        if search_key in row[0].lower() or search_key in row[1].lower():\n",
        "            print(row)\n",
        "            found = True\n",
        "\n",
        "    if not found:\n",
        "        print(\"No matching student found.\")"
      ],
      "metadata": {
        "id": "YqR9-w_yGT5l"
      },
      "execution_count": 9,
      "outputs": []
    },
    {
      "cell_type": "code",
      "source": [
        "def filter_by_grade():\n",
        "    grade_to_filter = input(\"Enter the grade to filter (e.g., A, B, C, F): \").strip().upper()\n",
        "\n",
        "    with open('studentdata.csv', 'r') as file:\n",
        "        reader = csv.reader(file)\n",
        "        rows = list(reader)\n",
        "\n",
        "    print(f\"Students with grade {grade_to_filter}:\")\n",
        "    found = False\n",
        "    for row in rows[1:]:\n",
        "        if row[4] == grade_to_filter:\n",
        "            print(row)\n",
        "            found = True\n",
        "\n",
        "    if not found:\n",
        "        print(f\"No students found with grade {grade_to_filter}.\")"
      ],
      "metadata": {
        "id": "LBIDQvaqIOsH"
      },
      "execution_count": 10,
      "outputs": []
    },
    {
      "cell_type": "code",
      "source": [
        "def identify_failed_students():\n",
        "    with open('studentdata.csv', 'r') as file:\n",
        "        reader = csv.reader(file)\n",
        "        rows = list(reader)\n",
        "\n",
        "    print(\"Students who failed in any subject:\")\n",
        "    found = False\n",
        "    for row in rows[1:]:\n",
        "        if row[4] == \"F\":\n",
        "            print(row)\n",
        "            found = True\n",
        "\n",
        "    if not found:\n",
        "        print(\"No students have failed.\")"
      ],
      "metadata": {
        "id": "9kD3XuRaKgfF"
      },
      "execution_count": 12,
      "outputs": []
    },
    {
      "cell_type": "code",
      "source": [
        "def manage_student_records():\n",
        "    while True:\n",
        "        print(\"\\nStudent Record Management:\")\n",
        "        print(\"1. Add a new student\")\n",
        "        print(\"2. Update student details\")\n",
        "        print(\"3. Remove a student record\")\n",
        "        print(\"4. Back to Main Menu\")\n",
        "        choice = input(\"Enter your choice: \")\n",
        "\n",
        "        if choice == \"1\":\n",
        "            add_student()\n",
        "        elif choice == \"2\":\n",
        "            update_student()\n",
        "        elif choice == \"3\":\n",
        "            remove_student()\n",
        "        elif choice == \"4\":\n",
        "            break\n",
        "        else:\n",
        "            print(\"Invalid choice. Please try again.\")"
      ],
      "metadata": {
        "id": "-9ybxB7hPn2v"
      },
      "execution_count": 13,
      "outputs": []
    },
    {
      "cell_type": "code",
      "source": [
        "def view_class_performance():\n",
        "    with open('studentdata.csv', 'r') as file:\n",
        "        reader = csv.reader(file)\n",
        "        rows = list(reader)[1:]\n",
        "\n",
        "    if not rows:\n",
        "        print(\"No student records available.\")\n",
        "        return\n",
        "\n",
        "    total_marks = []\n",
        "    top_scorer, low_scorer = None, None\n",
        "    highest_marks, lowest_marks = float('-inf'), float('inf')\n",
        "    pass_count = 0\n",
        "\n",
        "    for row in rows:\n",
        "        marks = int(row[3])\n",
        "        total_marks.append(marks)\n",
        "\n",
        "        if marks > highest_marks:\n",
        "            highest_marks = marks\n",
        "            top_scorer = row[1]\n",
        "\n",
        "        if marks < lowest_marks:\n",
        "            lowest_marks = marks\n",
        "            low_scorer = row[1]\n",
        "\n",
        "        if row[4] != \"F\":\n",
        "            pass_count += 1\n",
        "\n",
        "    avg_marks = sum(total_marks) / len(total_marks)\n",
        "    pass_percentage = (pass_count / len(rows)) * 100\n",
        "\n",
        "    print(\"\\nClass Performance Summary:\")\n",
        "    print(f\"Average Marks: {avg_marks:.2f}\")\n",
        "    print(f\"Top Scorer: {top_scorer} ({highest_marks} marks)\")\n",
        "    print(f\"Lowest Scorer: {low_scorer} ({lowest_marks} marks)\")\n",
        "    print(f\"Pass Percentage: {pass_percentage:.2f}%\")"
      ],
      "metadata": {
        "id": "StCU4YIFSxDN"
      },
      "execution_count": 14,
      "outputs": []
    },
    {
      "cell_type": "code",
      "source": [
        "def search_and_filter():\n",
        "    while True:\n",
        "        print(\"\\nSearch and Filter Options:\")\n",
        "        print(\"1. Search student by ID or Name\")\n",
        "        print(\"2. Filter students by Grade\")\n",
        "        print(\"3. Identify failed students\")\n",
        "        print(\"4. Back to Main Menu\")\n",
        "        choice = input(\"Enter your choice: \")\n",
        "\n",
        "        if choice == \"1\":\n",
        "            search_student()\n",
        "        elif choice == \"2\":\n",
        "            filter_by_grade()\n",
        "        elif choice == \"3\":\n",
        "            identify_failed_students()\n",
        "        elif choice == \"4\":\n",
        "            break\n",
        "        else:\n",
        "            print(\"Invalid choice. Please try again.\")"
      ],
      "metadata": {
        "id": "1f-bMETPS8UN"
      },
      "execution_count": 15,
      "outputs": []
    },
    {
      "cell_type": "code",
      "source": [
        "def main():\n",
        "    while True:\n",
        "        print(\"\\nStudent Grading and Performance Analysis System\")\n",
        "        print(\"1. Manage Student Records\")\n",
        "        print(\"2. View Class Performance Summary\")\n",
        "        print(\"3. Search and Filter Student Records\")\n",
        "        print(\"4. Exit\")\n",
        "        choice = input(\"Enter your choice: \")\n",
        "\n",
        "        if choice == \"1\":\n",
        "            manage_student_records()\n",
        "        elif choice == \"2\":\n",
        "            view_class_performance()\n",
        "        elif choice == \"3\":\n",
        "            search_and_filter()\n",
        "        elif choice == \"4\":\n",
        "            print(\"Exiting program. Goodbye!\")\n",
        "            break\n",
        "        else:\n",
        "            print(\"Invalid choice. Please try again.\")"
      ],
      "metadata": {
        "id": "0xVXpyL7TCPr"
      },
      "execution_count": 16,
      "outputs": []
    },
    {
      "cell_type": "code",
      "source": [
        "main()"
      ],
      "metadata": {
        "colab": {
          "base_uri": "https://localhost:8080/"
        },
        "id": "8m8_8Y_mTIFR",
        "outputId": "a428cdce-a73e-4338-ce9f-5e66caf394b9"
      },
      "execution_count": 17,
      "outputs": [
        {
          "output_type": "stream",
          "name": "stdout",
          "text": [
            "\n",
            "Student Grading and Performance Analysis System\n",
            "1. Manage Student Records\n",
            "2. View Class Performance Summary\n",
            "3. Search and Filter Student Records\n",
            "4. Exit\n",
            "Enter your choice: view class performance summary\n",
            "Invalid choice. Please try again.\n",
            "\n",
            "Student Grading and Performance Analysis System\n",
            "1. Manage Student Records\n",
            "2. View Class Performance Summary\n",
            "3. Search and Filter Student Records\n",
            "4. Exit\n",
            "Enter your choice: 2\n",
            "\n",
            "Class Performance Summary:\n",
            "Average Marks: 77.67\n",
            "Top Scorer: Rahim (80 marks)\n",
            "Lowest Scorer: Rahim (75 marks)\n",
            "Pass Percentage: 100.00%\n",
            "\n",
            "Student Grading and Performance Analysis System\n",
            "1. Manage Student Records\n",
            "2. View Class Performance Summary\n",
            "3. Search and Filter Student Records\n",
            "4. Exit\n",
            "Enter your choice: 1\n",
            "\n",
            "Student Record Management:\n",
            "1. Add a new student\n",
            "2. Update student details\n",
            "3. Remove a student record\n",
            "4. Back to Main Menu\n",
            "Enter your choice: 4\n",
            "\n",
            "Student Grading and Performance Analysis System\n",
            "1. Manage Student Records\n",
            "2. View Class Performance Summary\n",
            "3. Search and Filter Student Records\n",
            "4. Exit\n",
            "Enter your choice: 4\n",
            "Exiting program. Goodbye!\n"
          ]
        }
      ]
    }
  ]
}